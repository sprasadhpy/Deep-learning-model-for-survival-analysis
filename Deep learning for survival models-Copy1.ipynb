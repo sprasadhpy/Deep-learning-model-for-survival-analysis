{
 "cells": [
  {
   "cell_type": "code",
   "execution_count": 1,
   "metadata": {},
   "outputs": [],
   "source": [
    "#pip install lifelines\n",
    "#pip install sklearn_pandas\n",
    "#pip install torchtuples\n",
    "#pip install pycox"
   ]
  },
  {
   "cell_type": "code",
   "execution_count": 1,
   "metadata": {},
   "outputs": [],
   "source": [
    "import warnings\n",
    "warnings.filterwarnings('ignore')"
   ]
  },
  {
   "cell_type": "code",
   "execution_count": 2,
   "metadata": {},
   "outputs": [],
   "source": [
    "import numpy as np\n",
    "import pandas as pd\n",
    "import matplotlib.pyplot as plt"
   ]
  },
  {
   "cell_type": "code",
   "execution_count": 3,
   "metadata": {},
   "outputs": [],
   "source": [
    "import numpy as np\n",
    "import matplotlib.pyplot as plt\n",
    "from sklearn.preprocessing import StandardScaler\n",
    "from sklearn_pandas import DataFrameMapper\n",
    "\n",
    "import torch\n",
    "import torchtuples as tt\n",
    "\n",
    "from pycox.datasets import metabric\n",
    "from pycox.models import CoxPH\n",
    "from pycox.evaluation import EvalSurv"
   ]
  },
  {
   "cell_type": "code",
   "execution_count": 4,
   "metadata": {},
   "outputs": [],
   "source": [
    "data_cox=pd.read_excel('/Users/r.shyaamprasadh/Downloads/default_data.xlsx')  "
   ]
  },
  {
   "cell_type": "code",
   "execution_count": 5,
   "metadata": {},
   "outputs": [
    {
     "data": {
      "text/plain": [
       "Index(['residual_value', 'sco1_pop_final', 'Term', 'amount', 'origterm',\n",
       "       'year', 'odefind', 'exposure1', 'advance_pct', 'Origination time',\n",
       "       'balance time', 'current_bal', 'Term_1', 'check', 'start', 'id',\n",
       "       'stop'],\n",
       "      dtype='object')"
      ]
     },
     "execution_count": 5,
     "metadata": {},
     "output_type": "execute_result"
    }
   ],
   "source": [
    "data_cox.columns"
   ]
  },
  {
   "cell_type": "code",
   "execution_count": 6,
   "metadata": {},
   "outputs": [
    {
     "data": {
      "text/plain": [
       "<lifelines.KaplanMeierFitter:\"KM_estimate\", fitted with 100325 total observations, 99517 right-censored observations>"
      ]
     },
     "execution_count": 6,
     "metadata": {},
     "output_type": "execute_result"
    }
   ],
   "source": [
    "from lifelines import KaplanMeierFitter\n",
    "kmf = KaplanMeierFitter()\n",
    "\n",
    "T = data_cox[\"exposure1\"]\n",
    "E = data_cox[\"odefind\"]\n",
    "\n",
    "kmf.fit(T, event_observed=E)"
   ]
  },
  {
   "cell_type": "code",
   "execution_count": 7,
   "metadata": {},
   "outputs": [
    {
     "data": {
      "text/plain": [
       "(0.0, 100.0)"
      ]
     },
     "execution_count": 7,
     "metadata": {},
     "output_type": "execute_result"
    },
    {
     "data": {
      "image/png": "[encoded data removed]",
      "text/plain": [
       "<Figure size 432x288 with 1 Axes>"
      ]
     },
     "metadata": {
      "needs_background": "light"
     },
     "output_type": "display_data"
    }
   ],
   "source": [
    "ax = kmf.plot(ci_show=False)\n",
    "ax.set_xlim(0,100)"
   ]
  },
  {
   "cell_type": "code",
   "execution_count": 8,
   "metadata": {},
   "outputs": [],
   "source": [
    "data_cox_1=data_cox.drop(['origterm', 'Origination time','check','Term'], axis = 1)"
   ]
  },
  {
   "cell_type": "code",
   "execution_count": 9,
   "metadata": {},
   "outputs": [
    {
     "name": "stdout",
     "output_type": "stream",
     "text": [
      "Iteration 3: norm_delta = 0.00000, step_size = 1.00000, ll = -5907.64799, newton_decrement = 0.00000, seconds_since_start = 0.2Convergence completed after 3 iterations.\n"
     ]
    },
    {
     "data": {
      "text/plain": [
       "<lifelines.CoxTimeVaryingFitter: fitted with 100325 periods, 100325 subjects, 808 events>"
      ]
     },
     "execution_count": 9,
     "metadata": {},
     "output_type": "execute_result"
    }
   ],
   "source": [
    "from lifelines import CoxTimeVaryingFitter\n",
    "\n",
    "cox_tv = CoxTimeVaryingFitter(penalizer=0.1)\n",
    "cox_tv.fit(data_cox_1, id_col='id', event_col='odefind',start_col='start', stop_col='stop', show_progress=True, step_size=1)\n",
    "\n",
    "#Iteration 30: norm_delta = 0.00000, step_size = 1.00000, ll = -179884.48600, \n",
    "#newton_decrement = 0.00000, seconds_since_start = 207.0\n",
    "#Convergence completed after 30 iterations."
   ]
  },
  {
   "cell_type": "code",
   "execution_count": 10,
   "metadata": {},
   "outputs": [
    {
     "data": {
      "text/html": [
       "<div>\n",
       "<style scoped>\n",
       "    .dataframe tbody tr th:only-of-type {\n",
       "        vertical-align: middle;\n",
       "    }\n",
       "\n",
       "    .dataframe tbody tr th {\n",
       "        vertical-align: top;\n",
       "    }\n",
       "\n",
       "    .dataframe thead th {\n",
       "        text-align: right;\n",
       "    }\n",
       "</style>\n",
       "<table border=\"1\" class=\"dataframe\">\n",
       "  <tbody>\n",
       "    <tr>\n",
       "      <th>model</th>\n",
       "      <td>lifelines.CoxTimeVaryingFitter</td>\n",
       "    </tr>\n",
       "    <tr>\n",
       "      <th>event col</th>\n",
       "      <td>'odefind'</td>\n",
       "    </tr>\n",
       "    <tr>\n",
       "      <th>penalizer</th>\n",
       "      <td>0.1</td>\n",
       "    </tr>\n",
       "    <tr>\n",
       "      <th>number of subjects</th>\n",
       "      <td>100325</td>\n",
       "    </tr>\n",
       "    <tr>\n",
       "      <th>number of periods</th>\n",
       "      <td>100325</td>\n",
       "    </tr>\n",
       "    <tr>\n",
       "      <th>number of events</th>\n",
       "      <td>808</td>\n",
       "    </tr>\n",
       "    <tr>\n",
       "      <th>partial log-likelihood</th>\n",
       "      <td>-5907.65</td>\n",
       "    </tr>\n",
       "    <tr>\n",
       "      <th>time fit was run</th>\n",
       "      <td>2021-11-21 03:47:42 UTC</td>\n",
       "    </tr>\n",
       "  </tbody>\n",
       "</table>\n",
       "</div><table border=\"1\" class=\"dataframe\">\n",
       "  <thead>\n",
       "    <tr style=\"text-align: right;\">\n",
       "      <th style=\"min-width: 12px;\"></th>\n",
       "      <th style=\"min-width: 12px;\">coef</th>\n",
       "      <th style=\"min-width: 12px;\">exp(coef)</th>\n",
       "      <th style=\"min-width: 12px;\">se(coef)</th>\n",
       "      <th style=\"min-width: 12px;\">coef lower 95%</th>\n",
       "      <th style=\"min-width: 12px;\">coef upper 95%</th>\n",
       "      <th style=\"min-width: 12px;\">exp(coef) lower 95%</th>\n",
       "      <th style=\"min-width: 12px;\">exp(coef) upper 95%</th>\n",
       "      <th style=\"min-width: 12px;\">z</th>\n",
       "      <th style=\"min-width: 12px;\">p</th>\n",
       "      <th style=\"min-width: 12px;\">-log2(p)</th>\n",
       "    </tr>\n",
       "  </thead>\n",
       "  <tbody>\n",
       "    <tr>\n",
       "      <th>residual_value</th>\n",
       "      <td>0.00</td>\n",
       "      <td>1.00</td>\n",
       "      <td>0.00</td>\n",
       "      <td>0.00</td>\n",
       "      <td>0.00</td>\n",
       "      <td>1.00</td>\n",
       "      <td>1.00</td>\n",
       "      <td>1.98</td>\n",
       "      <td>0.05</td>\n",
       "      <td>4.41</td>\n",
       "    </tr>\n",
       "    <tr>\n",
       "      <th>sco1_pop_final</th>\n",
       "      <td>-0.00</td>\n",
       "      <td>1.00</td>\n",
       "      <td>0.00</td>\n",
       "      <td>-0.00</td>\n",
       "      <td>-0.00</td>\n",
       "      <td>1.00</td>\n",
       "      <td>1.00</td>\n",
       "      <td>-2.29</td>\n",
       "      <td>0.02</td>\n",
       "      <td>5.51</td>\n",
       "    </tr>\n",
       "    <tr>\n",
       "      <th>amount</th>\n",
       "      <td>0.00</td>\n",
       "      <td>1.00</td>\n",
       "      <td>0.00</td>\n",
       "      <td>0.00</td>\n",
       "      <td>0.00</td>\n",
       "      <td>1.00</td>\n",
       "      <td>1.00</td>\n",
       "      <td>3.27</td>\n",
       "      <td>&lt;0.005</td>\n",
       "      <td>9.84</td>\n",
       "    </tr>\n",
       "    <tr>\n",
       "      <th>year</th>\n",
       "      <td>-0.01</td>\n",
       "      <td>0.99</td>\n",
       "      <td>0.00</td>\n",
       "      <td>-0.01</td>\n",
       "      <td>-0.01</td>\n",
       "      <td>0.99</td>\n",
       "      <td>0.99</td>\n",
       "      <td>-4.19</td>\n",
       "      <td>&lt;0.005</td>\n",
       "      <td>15.14</td>\n",
       "    </tr>\n",
       "    <tr>\n",
       "      <th>exposure1</th>\n",
       "      <td>-0.00</td>\n",
       "      <td>1.00</td>\n",
       "      <td>0.00</td>\n",
       "      <td>-0.00</td>\n",
       "      <td>-0.00</td>\n",
       "      <td>1.00</td>\n",
       "      <td>1.00</td>\n",
       "      <td>-7.13</td>\n",
       "      <td>&lt;0.005</td>\n",
       "      <td>39.81</td>\n",
       "    </tr>\n",
       "    <tr>\n",
       "      <th>advance_pct</th>\n",
       "      <td>0.19</td>\n",
       "      <td>1.21</td>\n",
       "      <td>0.05</td>\n",
       "      <td>0.09</td>\n",
       "      <td>0.29</td>\n",
       "      <td>1.09</td>\n",
       "      <td>1.34</td>\n",
       "      <td>3.60</td>\n",
       "      <td>&lt;0.005</td>\n",
       "      <td>11.60</td>\n",
       "    </tr>\n",
       "    <tr>\n",
       "      <th>balance time</th>\n",
       "      <td>-0.00</td>\n",
       "      <td>1.00</td>\n",
       "      <td>0.00</td>\n",
       "      <td>-0.00</td>\n",
       "      <td>0.00</td>\n",
       "      <td>1.00</td>\n",
       "      <td>1.00</td>\n",
       "      <td>-0.01</td>\n",
       "      <td>0.99</td>\n",
       "      <td>0.01</td>\n",
       "    </tr>\n",
       "    <tr>\n",
       "      <th>current_bal</th>\n",
       "      <td>-0.00</td>\n",
       "      <td>1.00</td>\n",
       "      <td>0.00</td>\n",
       "      <td>-0.00</td>\n",
       "      <td>0.00</td>\n",
       "      <td>1.00</td>\n",
       "      <td>1.00</td>\n",
       "      <td>-0.59</td>\n",
       "      <td>0.55</td>\n",
       "      <td>0.85</td>\n",
       "    </tr>\n",
       "    <tr>\n",
       "      <th>Term_1</th>\n",
       "      <td>-0.04</td>\n",
       "      <td>0.96</td>\n",
       "      <td>0.03</td>\n",
       "      <td>-0.09</td>\n",
       "      <td>0.01</td>\n",
       "      <td>0.91</td>\n",
       "      <td>1.01</td>\n",
       "      <td>-1.45</td>\n",
       "      <td>0.15</td>\n",
       "      <td>2.78</td>\n",
       "    </tr>\n",
       "  </tbody>\n",
       "</table><br><div>\n",
       "<style scoped>\n",
       "    .dataframe tbody tr th:only-of-type {\n",
       "        vertical-align: middle;\n",
       "    }\n",
       "\n",
       "    .dataframe tbody tr th {\n",
       "        vertical-align: top;\n",
       "    }\n",
       "\n",
       "    .dataframe thead th {\n",
       "        text-align: right;\n",
       "    }\n",
       "</style>\n",
       "<table border=\"1\" class=\"dataframe\">\n",
       "  <tbody>\n",
       "    <tr>\n",
       "      <th>Partial AIC</th>\n",
       "      <td>11833.30</td>\n",
       "    </tr>\n",
       "    <tr>\n",
       "      <th>log-likelihood ratio test</th>\n",
       "      <td>105.37 on 9 df</td>\n",
       "    </tr>\n",
       "    <tr>\n",
       "      <th>-log2(p) of ll-ratio test</th>\n",
       "      <td>59.43</td>\n",
       "    </tr>\n",
       "  </tbody>\n",
       "</table>\n",
       "</div>"
      ],
      "text/latex": [
       "\\begin{tabular}{lrrrrrrrrrr}\n",
       "\\toprule\n",
       "{} &  coef &  exp(coef) &  se(coef) &  coef lower 95\\% &  coef upper 95\\% &  exp(coef) lower 95\\% &  exp(coef) upper 95\\% &     z &    p &  -log2(p) \\\\\n",
       "covariate      &       &            &           &                 &                 &                      &                      &       &      &           \\\\\n",
       "\\midrule\n",
       "residual\\_value &  0.00 &       1.00 &      0.00 &            0.00 &            0.00 &                 1.00 &                 1.00 &  1.98 & 0.05 &      4.41 \\\\\n",
       "sco1\\_pop\\_final & -0.00 &       1.00 &      0.00 &           -0.00 &           -0.00 &                 1.00 &                 1.00 & -2.29 & 0.02 &      5.51 \\\\\n",
       "amount         &  0.00 &       1.00 &      0.00 &            0.00 &            0.00 &                 1.00 &                 1.00 &  3.27 & 0.00 &      9.84 \\\\\n",
       "year           & -0.01 &       0.99 &      0.00 &           -0.01 &           -0.01 &                 0.99 &                 0.99 & -4.19 & 0.00 &     15.14 \\\\\n",
       "exposure1      & -0.00 &       1.00 &      0.00 &           -0.00 &           -0.00 &                 1.00 &                 1.00 & -7.13 & 0.00 &     39.81 \\\\\n",
       "advance\\_pct    &  0.19 &       1.21 &      0.05 &            0.09 &            0.29 &                 1.09 &                 1.34 &  3.60 & 0.00 &     11.60 \\\\\n",
       "balance time   & -0.00 &       1.00 &      0.00 &           -0.00 &            0.00 &                 1.00 &                 1.00 & -0.01 & 0.99 &      0.01 \\\\\n",
       "current\\_bal    & -0.00 &       1.00 &      0.00 &           -0.00 &            0.00 &                 1.00 &                 1.00 & -0.59 & 0.55 &      0.85 \\\\\n",
       "Term\\_1         & -0.04 &       0.96 &      0.03 &           -0.09 &            0.01 &                 0.91 &                 1.01 & -1.45 & 0.15 &      2.78 \\\\\n",
       "\\bottomrule\n",
       "\\end{tabular}\n"
      ],
      "text/plain": [
       "<lifelines.CoxTimeVaryingFitter: fitted with 100325 periods, 100325 subjects, 808 events>\n",
       "         event col = 'odefind'\n",
       "         penalizer = 0.1\n",
       "number of subjects = 100325\n",
       " number of periods = 100325\n",
       "  number of events = 808\n",
       "partial log-likelihood = -5907.65\n",
       "  time fit was run = 2021-11-21 03:47:42 UTC\n",
       "\n",
       "---\n",
       "                 coef  exp(coef)   se(coef)   coef lower 95%   coef upper 95%  exp(coef) lower 95%  exp(coef) upper 95%\n",
       "covariate                                                                                                              \n",
       "residual_value   0.00       1.00       0.00             0.00             0.00                 1.00                 1.00\n",
       "sco1_pop_final  -0.00       1.00       0.00            -0.00            -0.00                 1.00                 1.00\n",
       "amount           0.00       1.00       0.00             0.00             0.00                 1.00                 1.00\n",
       "year            -0.01       0.99       0.00            -0.01            -0.01                 0.99                 0.99\n",
       "exposure1       -0.00       1.00       0.00            -0.00            -0.00                 1.00                 1.00\n",
       "advance_pct      0.19       1.21       0.05             0.09             0.29                 1.09                 1.34\n",
       "balance time    -0.00       1.00       0.00            -0.00             0.00                 1.00                 1.00\n",
       "current_bal     -0.00       1.00       0.00            -0.00             0.00                 1.00                 1.00\n",
       "Term_1          -0.04       0.96       0.03            -0.09             0.01                 0.91                 1.01\n",
       "\n",
       "                   z      p   -log2(p)\n",
       "covariate                             \n",
       "residual_value  1.98   0.05       4.41\n",
       "sco1_pop_final -2.29   0.02       5.51\n",
       "amount          3.27 <0.005       9.84\n",
       "year           -4.19 <0.005      15.14\n",
       "exposure1      -7.13 <0.005      39.81\n",
       "advance_pct     3.60 <0.005      11.60\n",
       "balance time   -0.01   0.99       0.01\n",
       "current_bal    -0.59   0.55       0.85\n",
       "Term_1         -1.45   0.15       2.78\n",
       "---\n",
       "Partial AIC = 11833.30\n",
       "log-likelihood ratio test = 105.37 on 9 df\n",
       "-log2(p) of ll-ratio test = 59.43"
      ]
     },
     "metadata": {},
     "output_type": "display_data"
    }
   ],
   "source": [
    "cox_tv.print_summary()"
   ]
  },
  {
   "cell_type": "code",
   "execution_count": 11,
   "metadata": {},
   "outputs": [
    {
     "data": {
      "image/png": "[encoded data removed]",
      "text/plain": [
       "<Figure size 720x360 with 1 Axes>"
      ]
     },
     "metadata": {
      "needs_background": "light"
     },
     "output_type": "display_data"
    }
   ],
   "source": [
    "plt.figure(figsize=(10,5))\n",
    "cox_tv.plot()\n",
    "plt.show()"
   ]
  },
  {
   "cell_type": "code",
   "execution_count": null,
   "metadata": {},
   "outputs": [],
   "source": []
  },
  {
   "cell_type": "markdown",
   "metadata": {},
   "source": [
    "### Introduction to pycox"
   ]
  },
  {
   "cell_type": "code",
   "execution_count": 31,
   "metadata": {},
   "outputs": [],
   "source": [
    "import torch # For building the networks \n",
    "import torchtuples as tt # Some useful functions"
   ]
  },
  {
   "cell_type": "code",
   "execution_count": 32,
   "metadata": {},
   "outputs": [],
   "source": [
    "from pycox.models import LogisticHazard\n",
    "# from pycox.models import PMF\n",
    "# from pycox.models import DeepHitSingle\n",
    "from pycox.evaluation import EvalSurv"
   ]
  },
  {
   "cell_type": "code",
   "execution_count": 33,
   "metadata": {},
   "outputs": [],
   "source": [
    "np.random.seed(1234)\n",
    "_ = torch.manual_seed(123)"
   ]
  },
  {
   "cell_type": "code",
   "execution_count": 34,
   "metadata": {},
   "outputs": [
    {
     "data": {
      "text/html": [
       "<div>\n",
       "<style scoped>\n",
       "    .dataframe tbody tr th:only-of-type {\n",
       "        vertical-align: middle;\n",
       "    }\n",
       "\n",
       "    .dataframe tbody tr th {\n",
       "        vertical-align: top;\n",
       "    }\n",
       "\n",
       "    .dataframe thead th {\n",
       "        text-align: right;\n",
       "    }\n",
       "</style>\n",
       "<table border=\"1\" class=\"dataframe\">\n",
       "  <thead>\n",
       "    <tr style=\"text-align: right;\">\n",
       "      <th></th>\n",
       "      <th>residual_value</th>\n",
       "      <th>sco1_pop_final</th>\n",
       "      <th>Term</th>\n",
       "      <th>amount</th>\n",
       "      <th>origterm</th>\n",
       "      <th>year</th>\n",
       "      <th>odefind</th>\n",
       "      <th>exposure1</th>\n",
       "      <th>advance_pct</th>\n",
       "      <th>Origination time</th>\n",
       "      <th>balance time</th>\n",
       "      <th>current_bal</th>\n",
       "      <th>Term_1</th>\n",
       "      <th>check</th>\n",
       "      <th>start</th>\n",
       "      <th>id</th>\n",
       "      <th>stop</th>\n",
       "    </tr>\n",
       "  </thead>\n",
       "  <tbody>\n",
       "    <tr>\n",
       "      <th>0</th>\n",
       "      <td>10330</td>\n",
       "      <td>99.7</td>\n",
       "      <td>36</td>\n",
       "      <td>15460</td>\n",
       "      <td>36</td>\n",
       "      <td>2006</td>\n",
       "      <td>0</td>\n",
       "      <td>140</td>\n",
       "      <td>0.653423</td>\n",
       "      <td>156</td>\n",
       "      <td>119</td>\n",
       "      <td>0</td>\n",
       "      <td>0</td>\n",
       "      <td>1</td>\n",
       "      <td>118</td>\n",
       "      <td>1</td>\n",
       "      <td>119</td>\n",
       "    </tr>\n",
       "    <tr>\n",
       "      <th>1</th>\n",
       "      <td>10282</td>\n",
       "      <td>97.8</td>\n",
       "      <td>36</td>\n",
       "      <td>13955</td>\n",
       "      <td>36</td>\n",
       "      <td>2006</td>\n",
       "      <td>0</td>\n",
       "      <td>140</td>\n",
       "      <td>0.777221</td>\n",
       "      <td>156</td>\n",
       "      <td>119</td>\n",
       "      <td>0</td>\n",
       "      <td>0</td>\n",
       "      <td>2</td>\n",
       "      <td>118</td>\n",
       "      <td>2</td>\n",
       "      <td>119</td>\n",
       "    </tr>\n",
       "    <tr>\n",
       "      <th>2</th>\n",
       "      <td>10328</td>\n",
       "      <td>99.3</td>\n",
       "      <td>36</td>\n",
       "      <td>15730</td>\n",
       "      <td>36</td>\n",
       "      <td>2006</td>\n",
       "      <td>0</td>\n",
       "      <td>140</td>\n",
       "      <td>0.750477</td>\n",
       "      <td>157</td>\n",
       "      <td>121</td>\n",
       "      <td>0</td>\n",
       "      <td>0</td>\n",
       "      <td>3</td>\n",
       "      <td>120</td>\n",
       "      <td>3</td>\n",
       "      <td>121</td>\n",
       "    </tr>\n",
       "    <tr>\n",
       "      <th>3</th>\n",
       "      <td>3016</td>\n",
       "      <td>0.0</td>\n",
       "      <td>36</td>\n",
       "      <td>7243</td>\n",
       "      <td>36</td>\n",
       "      <td>2006</td>\n",
       "      <td>0</td>\n",
       "      <td>140</td>\n",
       "      <td>0.936514</td>\n",
       "      <td>156</td>\n",
       "      <td>119</td>\n",
       "      <td>0</td>\n",
       "      <td>0</td>\n",
       "      <td>4</td>\n",
       "      <td>118</td>\n",
       "      <td>4</td>\n",
       "      <td>119</td>\n",
       "    </tr>\n",
       "    <tr>\n",
       "      <th>4</th>\n",
       "      <td>12949</td>\n",
       "      <td>99.9</td>\n",
       "      <td>36</td>\n",
       "      <td>17020</td>\n",
       "      <td>36</td>\n",
       "      <td>2006</td>\n",
       "      <td>0</td>\n",
       "      <td>140</td>\n",
       "      <td>0.566955</td>\n",
       "      <td>157</td>\n",
       "      <td>119</td>\n",
       "      <td>0</td>\n",
       "      <td>0</td>\n",
       "      <td>5</td>\n",
       "      <td>118</td>\n",
       "      <td>5</td>\n",
       "      <td>119</td>\n",
       "    </tr>\n",
       "  </tbody>\n",
       "</table>\n",
       "</div>"
      ],
      "text/plain": [
       "   residual_value  sco1_pop_final  Term  amount  origterm  year  odefind  \\\n",
       "0           10330            99.7    36   15460        36  2006        0   \n",
       "1           10282            97.8    36   13955        36  2006        0   \n",
       "2           10328            99.3    36   15730        36  2006        0   \n",
       "3            3016             0.0    36    7243        36  2006        0   \n",
       "4           12949            99.9    36   17020        36  2006        0   \n",
       "\n",
       "   exposure1  advance_pct  Origination time  balance time  current_bal  \\\n",
       "0        140     0.653423               156           119            0   \n",
       "1        140     0.777221               156           119            0   \n",
       "2        140     0.750477               157           121            0   \n",
       "3        140     0.936514               156           119            0   \n",
       "4        140     0.566955               157           119            0   \n",
       "\n",
       "   Term_1  check  start  id  stop  \n",
       "0       0      1    118   1   119  \n",
       "1       0      2    118   2   119  \n",
       "2       0      3    120   3   121  \n",
       "3       0      4    118   4   119  \n",
       "4       0      5    118   5   119  "
      ]
     },
     "execution_count": 34,
     "metadata": {},
     "output_type": "execute_result"
    }
   ],
   "source": [
    "data_cox.head(5)"
   ]
  },
  {
   "cell_type": "code",
   "execution_count": 35,
   "metadata": {},
   "outputs": [
    {
     "data": {
      "text/plain": [
       "36    85159\n",
       "24    15166\n",
       "Name: Term, dtype: int64"
      ]
     },
     "execution_count": 35,
     "metadata": {},
     "output_type": "execute_result"
    }
   ],
   "source": [
    "data_cox['Term'].value_counts()"
   ]
  },
  {
   "cell_type": "code",
   "execution_count": 36,
   "metadata": {},
   "outputs": [
    {
     "data": {
      "text/plain": [
       "0    85159\n",
       "1    15166\n",
       "Name: Term_1, dtype: int64"
      ]
     },
     "execution_count": 36,
     "metadata": {},
     "output_type": "execute_result"
    }
   ],
   "source": [
    "data_cox['Term_1'].value_counts()"
   ]
  },
  {
   "cell_type": "code",
   "execution_count": 37,
   "metadata": {},
   "outputs": [
    {
     "data": {
      "text/html": [
       "<div>\n",
       "<style scoped>\n",
       "    .dataframe tbody tr th:only-of-type {\n",
       "        vertical-align: middle;\n",
       "    }\n",
       "\n",
       "    .dataframe tbody tr th {\n",
       "        vertical-align: top;\n",
       "    }\n",
       "\n",
       "    .dataframe thead th {\n",
       "        text-align: right;\n",
       "    }\n",
       "</style>\n",
       "<table border=\"1\" class=\"dataframe\">\n",
       "  <thead>\n",
       "    <tr style=\"text-align: right;\">\n",
       "      <th></th>\n",
       "      <th>residual_value</th>\n",
       "      <th>sco1_pop_final</th>\n",
       "      <th>Term</th>\n",
       "      <th>amount</th>\n",
       "      <th>origterm</th>\n",
       "      <th>year</th>\n",
       "      <th>odefind</th>\n",
       "      <th>exposure1</th>\n",
       "      <th>advance_pct</th>\n",
       "      <th>Origination time</th>\n",
       "      <th>balance time</th>\n",
       "      <th>current_bal</th>\n",
       "      <th>Term_1</th>\n",
       "      <th>check</th>\n",
       "      <th>start</th>\n",
       "      <th>id</th>\n",
       "      <th>stop</th>\n",
       "    </tr>\n",
       "  </thead>\n",
       "  <tbody>\n",
       "    <tr>\n",
       "      <th>0</th>\n",
       "      <td>10330</td>\n",
       "      <td>99.70</td>\n",
       "      <td>36</td>\n",
       "      <td>15460</td>\n",
       "      <td>36</td>\n",
       "      <td>2006</td>\n",
       "      <td>0</td>\n",
       "      <td>140</td>\n",
       "      <td>0.653423</td>\n",
       "      <td>156</td>\n",
       "      <td>119</td>\n",
       "      <td>0</td>\n",
       "      <td>0</td>\n",
       "      <td>1</td>\n",
       "      <td>118</td>\n",
       "      <td>1</td>\n",
       "      <td>119</td>\n",
       "    </tr>\n",
       "    <tr>\n",
       "      <th>1</th>\n",
       "      <td>10282</td>\n",
       "      <td>97.80</td>\n",
       "      <td>36</td>\n",
       "      <td>13955</td>\n",
       "      <td>36</td>\n",
       "      <td>2006</td>\n",
       "      <td>0</td>\n",
       "      <td>140</td>\n",
       "      <td>0.777221</td>\n",
       "      <td>156</td>\n",
       "      <td>119</td>\n",
       "      <td>0</td>\n",
       "      <td>0</td>\n",
       "      <td>2</td>\n",
       "      <td>118</td>\n",
       "      <td>2</td>\n",
       "      <td>119</td>\n",
       "    </tr>\n",
       "    <tr>\n",
       "      <th>2</th>\n",
       "      <td>10328</td>\n",
       "      <td>99.30</td>\n",
       "      <td>36</td>\n",
       "      <td>15730</td>\n",
       "      <td>36</td>\n",
       "      <td>2006</td>\n",
       "      <td>0</td>\n",
       "      <td>140</td>\n",
       "      <td>0.750477</td>\n",
       "      <td>157</td>\n",
       "      <td>121</td>\n",
       "      <td>0</td>\n",
       "      <td>0</td>\n",
       "      <td>3</td>\n",
       "      <td>120</td>\n",
       "      <td>3</td>\n",
       "      <td>121</td>\n",
       "    </tr>\n",
       "    <tr>\n",
       "      <th>3</th>\n",
       "      <td>3016</td>\n",
       "      <td>0.00</td>\n",
       "      <td>36</td>\n",
       "      <td>7243</td>\n",
       "      <td>36</td>\n",
       "      <td>2006</td>\n",
       "      <td>0</td>\n",
       "      <td>140</td>\n",
       "      <td>0.936514</td>\n",
       "      <td>156</td>\n",
       "      <td>119</td>\n",
       "      <td>0</td>\n",
       "      <td>0</td>\n",
       "      <td>4</td>\n",
       "      <td>118</td>\n",
       "      <td>4</td>\n",
       "      <td>119</td>\n",
       "    </tr>\n",
       "    <tr>\n",
       "      <th>4</th>\n",
       "      <td>12949</td>\n",
       "      <td>99.90</td>\n",
       "      <td>36</td>\n",
       "      <td>17020</td>\n",
       "      <td>36</td>\n",
       "      <td>2006</td>\n",
       "      <td>0</td>\n",
       "      <td>140</td>\n",
       "      <td>0.566955</td>\n",
       "      <td>157</td>\n",
       "      <td>119</td>\n",
       "      <td>0</td>\n",
       "      <td>0</td>\n",
       "      <td>5</td>\n",
       "      <td>118</td>\n",
       "      <td>5</td>\n",
       "      <td>119</td>\n",
       "    </tr>\n",
       "    <tr>\n",
       "      <th>...</th>\n",
       "      <td>...</td>\n",
       "      <td>...</td>\n",
       "      <td>...</td>\n",
       "      <td>...</td>\n",
       "      <td>...</td>\n",
       "      <td>...</td>\n",
       "      <td>...</td>\n",
       "      <td>...</td>\n",
       "      <td>...</td>\n",
       "      <td>...</td>\n",
       "      <td>...</td>\n",
       "      <td>...</td>\n",
       "      <td>...</td>\n",
       "      <td>...</td>\n",
       "      <td>...</td>\n",
       "      <td>...</td>\n",
       "      <td>...</td>\n",
       "    </tr>\n",
       "    <tr>\n",
       "      <th>100320</th>\n",
       "      <td>4378</td>\n",
       "      <td>99.81</td>\n",
       "      <td>36</td>\n",
       "      <td>7000</td>\n",
       "      <td>36</td>\n",
       "      <td>2020</td>\n",
       "      <td>0</td>\n",
       "      <td>3</td>\n",
       "      <td>0.327256</td>\n",
       "      <td>17</td>\n",
       "      <td>1447</td>\n",
       "      <td>7008</td>\n",
       "      <td>0</td>\n",
       "      <td>100321</td>\n",
       "      <td>1446</td>\n",
       "      <td>100321</td>\n",
       "      <td>1447</td>\n",
       "    </tr>\n",
       "    <tr>\n",
       "      <th>100321</th>\n",
       "      <td>12075</td>\n",
       "      <td>99.61</td>\n",
       "      <td>36</td>\n",
       "      <td>19530</td>\n",
       "      <td>36</td>\n",
       "      <td>2020</td>\n",
       "      <td>0</td>\n",
       "      <td>3</td>\n",
       "      <td>1.000000</td>\n",
       "      <td>18</td>\n",
       "      <td>1447</td>\n",
       "      <td>19544</td>\n",
       "      <td>0</td>\n",
       "      <td>100322</td>\n",
       "      <td>1446</td>\n",
       "      <td>100322</td>\n",
       "      <td>1447</td>\n",
       "    </tr>\n",
       "    <tr>\n",
       "      <th>100322</th>\n",
       "      <td>12725</td>\n",
       "      <td>99.07</td>\n",
       "      <td>36</td>\n",
       "      <td>21073</td>\n",
       "      <td>36</td>\n",
       "      <td>2020</td>\n",
       "      <td>0</td>\n",
       "      <td>3</td>\n",
       "      <td>1.000000</td>\n",
       "      <td>18</td>\n",
       "      <td>1447</td>\n",
       "      <td>20357</td>\n",
       "      <td>0</td>\n",
       "      <td>100323</td>\n",
       "      <td>1446</td>\n",
       "      <td>100323</td>\n",
       "      <td>1447</td>\n",
       "    </tr>\n",
       "    <tr>\n",
       "      <th>100323</th>\n",
       "      <td>15000</td>\n",
       "      <td>99.04</td>\n",
       "      <td>36</td>\n",
       "      <td>28832</td>\n",
       "      <td>36</td>\n",
       "      <td>2020</td>\n",
       "      <td>0</td>\n",
       "      <td>3</td>\n",
       "      <td>0.636019</td>\n",
       "      <td>18</td>\n",
       "      <td>1447</td>\n",
       "      <td>28041</td>\n",
       "      <td>0</td>\n",
       "      <td>100324</td>\n",
       "      <td>1446</td>\n",
       "      <td>100324</td>\n",
       "      <td>1447</td>\n",
       "    </tr>\n",
       "    <tr>\n",
       "      <th>100324</th>\n",
       "      <td>17664</td>\n",
       "      <td>97.75</td>\n",
       "      <td>36</td>\n",
       "      <td>25375</td>\n",
       "      <td>36</td>\n",
       "      <td>2020</td>\n",
       "      <td>0</td>\n",
       "      <td>3</td>\n",
       "      <td>0.863830</td>\n",
       "      <td>18</td>\n",
       "      <td>1447</td>\n",
       "      <td>24934</td>\n",
       "      <td>0</td>\n",
       "      <td>100325</td>\n",
       "      <td>1446</td>\n",
       "      <td>100325</td>\n",
       "      <td>1447</td>\n",
       "    </tr>\n",
       "  </tbody>\n",
       "</table>\n",
       "<p>100325 rows × 17 columns</p>\n",
       "</div>"
      ],
      "text/plain": [
       "        residual_value  sco1_pop_final  Term  amount  origterm  year  odefind  \\\n",
       "0                10330           99.70    36   15460        36  2006        0   \n",
       "1                10282           97.80    36   13955        36  2006        0   \n",
       "2                10328           99.30    36   15730        36  2006        0   \n",
       "3                 3016            0.00    36    7243        36  2006        0   \n",
       "4                12949           99.90    36   17020        36  2006        0   \n",
       "...                ...             ...   ...     ...       ...   ...      ...   \n",
       "100320            4378           99.81    36    7000        36  2020        0   \n",
       "100321           12075           99.61    36   19530        36  2020        0   \n",
       "100322           12725           99.07    36   21073        36  2020        0   \n",
       "100323           15000           99.04    36   28832        36  2020        0   \n",
       "100324           17664           97.75    36   25375        36  2020        0   \n",
       "\n",
       "        exposure1  advance_pct  Origination time  balance time  current_bal  \\\n",
       "0             140     0.653423               156           119            0   \n",
       "1             140     0.777221               156           119            0   \n",
       "2             140     0.750477               157           121            0   \n",
       "3             140     0.936514               156           119            0   \n",
       "4             140     0.566955               157           119            0   \n",
       "...           ...          ...               ...           ...          ...   \n",
       "100320          3     0.327256                17          1447         7008   \n",
       "100321          3     1.000000                18          1447        19544   \n",
       "100322          3     1.000000                18          1447        20357   \n",
       "100323          3     0.636019                18          1447        28041   \n",
       "100324          3     0.863830                18          1447        24934   \n",
       "\n",
       "        Term_1   check  start      id  stop  \n",
       "0            0       1    118       1   119  \n",
       "1            0       2    118       2   119  \n",
       "2            0       3    120       3   121  \n",
       "3            0       4    118       4   119  \n",
       "4            0       5    118       5   119  \n",
       "...        ...     ...    ...     ...   ...  \n",
       "100320       0  100321   1446  100321  1447  \n",
       "100321       0  100322   1446  100322  1447  \n",
       "100322       0  100323   1446  100323  1447  \n",
       "100323       0  100324   1446  100324  1447  \n",
       "100324       0  100325   1446  100325  1447  \n",
       "\n",
       "[100325 rows x 17 columns]"
      ]
     },
     "execution_count": 37,
     "metadata": {},
     "output_type": "execute_result"
    }
   ],
   "source": [
    "data_cox"
   ]
  },
  {
   "cell_type": "code",
   "execution_count": 38,
   "metadata": {},
   "outputs": [],
   "source": [
    "df_train=data_cox\n",
    "df_test = df_train.sample(frac=0.2)\n",
    "df_train = df_train.drop(df_test.index)\n",
    "df_val = df_train.sample(frac=0.2)\n",
    "df_train = df_train.drop(df_val.index)"
   ]
  },
  {
   "cell_type": "code",
   "execution_count": 39,
   "metadata": {},
   "outputs": [
    {
     "data": {
      "text/plain": [
       "(64208, 17)"
      ]
     },
     "execution_count": 39,
     "metadata": {},
     "output_type": "execute_result"
    }
   ],
   "source": [
    "df_train.shape"
   ]
  },
  {
   "cell_type": "code",
   "execution_count": 40,
   "metadata": {},
   "outputs": [
    {
     "data": {
      "text/plain": [
       "(16052, 17)"
      ]
     },
     "execution_count": 40,
     "metadata": {},
     "output_type": "execute_result"
    }
   ],
   "source": [
    "df_val.shape"
   ]
  },
  {
   "cell_type": "code",
   "execution_count": 41,
   "metadata": {},
   "outputs": [
    {
     "data": {
      "text/plain": [
       "(20065, 17)"
      ]
     },
     "execution_count": 41,
     "metadata": {},
     "output_type": "execute_result"
    }
   ],
   "source": [
    "df_test.shape"
   ]
  },
  {
   "cell_type": "code",
   "execution_count": 42,
   "metadata": {},
   "outputs": [
    {
     "data": {
      "text/html": [
       "<div>\n",
       "<style scoped>\n",
       "    .dataframe tbody tr th:only-of-type {\n",
       "        vertical-align: middle;\n",
       "    }\n",
       "\n",
       "    .dataframe tbody tr th {\n",
       "        vertical-align: top;\n",
       "    }\n",
       "\n",
       "    .dataframe thead th {\n",
       "        text-align: right;\n",
       "    }\n",
       "</style>\n",
       "<table border=\"1\" class=\"dataframe\">\n",
       "  <thead>\n",
       "    <tr style=\"text-align: right;\">\n",
       "      <th></th>\n",
       "      <th>residual_value</th>\n",
       "      <th>sco1_pop_final</th>\n",
       "      <th>Term</th>\n",
       "      <th>amount</th>\n",
       "      <th>origterm</th>\n",
       "      <th>year</th>\n",
       "      <th>odefind</th>\n",
       "      <th>exposure1</th>\n",
       "      <th>advance_pct</th>\n",
       "      <th>Origination time</th>\n",
       "      <th>balance time</th>\n",
       "      <th>current_bal</th>\n",
       "      <th>Term_1</th>\n",
       "      <th>check</th>\n",
       "      <th>start</th>\n",
       "      <th>id</th>\n",
       "      <th>stop</th>\n",
       "    </tr>\n",
       "  </thead>\n",
       "  <tbody>\n",
       "    <tr>\n",
       "      <th>1</th>\n",
       "      <td>10282</td>\n",
       "      <td>97.8</td>\n",
       "      <td>36</td>\n",
       "      <td>13955</td>\n",
       "      <td>36</td>\n",
       "      <td>2006</td>\n",
       "      <td>0</td>\n",
       "      <td>140</td>\n",
       "      <td>0.777221</td>\n",
       "      <td>156</td>\n",
       "      <td>119</td>\n",
       "      <td>0</td>\n",
       "      <td>0</td>\n",
       "      <td>2</td>\n",
       "      <td>118</td>\n",
       "      <td>2</td>\n",
       "      <td>119</td>\n",
       "    </tr>\n",
       "    <tr>\n",
       "      <th>2</th>\n",
       "      <td>10328</td>\n",
       "      <td>99.3</td>\n",
       "      <td>36</td>\n",
       "      <td>15730</td>\n",
       "      <td>36</td>\n",
       "      <td>2006</td>\n",
       "      <td>0</td>\n",
       "      <td>140</td>\n",
       "      <td>0.750477</td>\n",
       "      <td>157</td>\n",
       "      <td>121</td>\n",
       "      <td>0</td>\n",
       "      <td>0</td>\n",
       "      <td>3</td>\n",
       "      <td>120</td>\n",
       "      <td>3</td>\n",
       "      <td>121</td>\n",
       "    </tr>\n",
       "    <tr>\n",
       "      <th>3</th>\n",
       "      <td>3016</td>\n",
       "      <td>0.0</td>\n",
       "      <td>36</td>\n",
       "      <td>7243</td>\n",
       "      <td>36</td>\n",
       "      <td>2006</td>\n",
       "      <td>0</td>\n",
       "      <td>140</td>\n",
       "      <td>0.936514</td>\n",
       "      <td>156</td>\n",
       "      <td>119</td>\n",
       "      <td>0</td>\n",
       "      <td>0</td>\n",
       "      <td>4</td>\n",
       "      <td>118</td>\n",
       "      <td>4</td>\n",
       "      <td>119</td>\n",
       "    </tr>\n",
       "    <tr>\n",
       "      <th>5</th>\n",
       "      <td>8431</td>\n",
       "      <td>98.1</td>\n",
       "      <td>36</td>\n",
       "      <td>18113</td>\n",
       "      <td>36</td>\n",
       "      <td>2006</td>\n",
       "      <td>0</td>\n",
       "      <td>140</td>\n",
       "      <td>0.783672</td>\n",
       "      <td>157</td>\n",
       "      <td>119</td>\n",
       "      <td>0</td>\n",
       "      <td>0</td>\n",
       "      <td>6</td>\n",
       "      <td>118</td>\n",
       "      <td>6</td>\n",
       "      <td>119</td>\n",
       "    </tr>\n",
       "    <tr>\n",
       "      <th>6</th>\n",
       "      <td>7852</td>\n",
       "      <td>99.6</td>\n",
       "      <td>36</td>\n",
       "      <td>16060</td>\n",
       "      <td>36</td>\n",
       "      <td>2006</td>\n",
       "      <td>0</td>\n",
       "      <td>140</td>\n",
       "      <td>0.653909</td>\n",
       "      <td>157</td>\n",
       "      <td>120</td>\n",
       "      <td>0</td>\n",
       "      <td>0</td>\n",
       "      <td>7</td>\n",
       "      <td>119</td>\n",
       "      <td>7</td>\n",
       "      <td>120</td>\n",
       "    </tr>\n",
       "  </tbody>\n",
       "</table>\n",
       "</div>"
      ],
      "text/plain": [
       "   residual_value  sco1_pop_final  Term  amount  origterm  year  odefind  \\\n",
       "1           10282            97.8    36   13955        36  2006        0   \n",
       "2           10328            99.3    36   15730        36  2006        0   \n",
       "3            3016             0.0    36    7243        36  2006        0   \n",
       "5            8431            98.1    36   18113        36  2006        0   \n",
       "6            7852            99.6    36   16060        36  2006        0   \n",
       "\n",
       "   exposure1  advance_pct  Origination time  balance time  current_bal  \\\n",
       "1        140     0.777221               156           119            0   \n",
       "2        140     0.750477               157           121            0   \n",
       "3        140     0.936514               156           119            0   \n",
       "5        140     0.783672               157           119            0   \n",
       "6        140     0.653909               157           120            0   \n",
       "\n",
       "   Term_1  check  start  id  stop  \n",
       "1       0      2    118   2   119  \n",
       "2       0      3    120   3   121  \n",
       "3       0      4    118   4   119  \n",
       "5       0      6    118   6   119  \n",
       "6       0      7    119   7   120  "
      ]
     },
     "execution_count": 42,
     "metadata": {},
     "output_type": "execute_result"
    }
   ],
   "source": [
    "df_train.head()"
   ]
  },
  {
   "cell_type": "code",
   "execution_count": 43,
   "metadata": {},
   "outputs": [
    {
     "data": {
      "text/plain": [
       "Index(['residual_value', 'sco1_pop_final', 'Term', 'amount', 'origterm',\n",
       "       'year', 'odefind', 'exposure1', 'advance_pct', 'Origination time',\n",
       "       'balance time', 'current_bal', 'Term_1', 'check', 'start', 'id',\n",
       "       'stop'],\n",
       "      dtype='object')"
      ]
     },
     "execution_count": 43,
     "metadata": {},
     "output_type": "execute_result"
    }
   ],
   "source": [
    "data_cox.columns"
   ]
  },
  {
   "cell_type": "code",
   "execution_count": 44,
   "metadata": {},
   "outputs": [],
   "source": [
    "cols_standardize = ['residual_value', 'sco1_pop_final', 'amount','Origination time','balance time','current_bal']\n",
    "cols_leave = ['year', 'odefind','Term_1','exposure1']\n",
    "\n",
    "standardize = [([col], StandardScaler()) for col in cols_standardize]\n",
    "leave = [(col, None) for col in cols_leave]\n",
    "\n",
    "x_mapper = DataFrameMapper(standardize + leave)"
   ]
  },
  {
   "cell_type": "code",
   "execution_count": 45,
   "metadata": {},
   "outputs": [
    {
     "data": {
      "text/plain": [
       "DataFrameMapper(drop_cols=[],\n",
       "                features=[(['residual_value'], StandardScaler()),\n",
       "                          (['sco1_pop_final'], StandardScaler()),\n",
       "                          (['amount'], StandardScaler()),\n",
       "                          (['Origination time'], StandardScaler()),\n",
       "                          (['balance time'], StandardScaler()),\n",
       "                          (['current_bal'], StandardScaler()), ('year', None),\n",
       "                          ('odefind', None), ('Term_1', None),\n",
       "                          ('exposure1', None)])"
      ]
     },
     "execution_count": 45,
     "metadata": {},
     "output_type": "execute_result"
    }
   ],
   "source": [
    "x_mapper"
   ]
  },
  {
   "cell_type": "code",
   "execution_count": 46,
   "metadata": {},
   "outputs": [],
   "source": [
    "x_train = x_mapper.fit_transform(df_train).astype('float32')\n",
    "x_val = x_mapper.transform(df_val).astype('float32')\n",
    "x_test = x_mapper.transform(df_test).astype('float32')"
   ]
  },
  {
   "cell_type": "code",
   "execution_count": 47,
   "metadata": {},
   "outputs": [
    {
     "data": {
      "text/plain": [
       "(64208, 10)"
      ]
     },
     "execution_count": 47,
     "metadata": {},
     "output_type": "execute_result"
    }
   ],
   "source": [
    "x_train.shape"
   ]
  },
  {
   "cell_type": "code",
   "execution_count": 48,
   "metadata": {},
   "outputs": [
    {
     "data": {
      "text/plain": [
       "(16052, 10)"
      ]
     },
     "execution_count": 48,
     "metadata": {},
     "output_type": "execute_result"
    }
   ],
   "source": [
    "x_val.shape"
   ]
  },
  {
   "cell_type": "code",
   "execution_count": 49,
   "metadata": {},
   "outputs": [
    {
     "data": {
      "text/plain": [
       "(20065, 10)"
      ]
     },
     "execution_count": 49,
     "metadata": {},
     "output_type": "execute_result"
    }
   ],
   "source": [
    "x_test.shape"
   ]
  },
  {
   "cell_type": "code",
   "execution_count": 50,
   "metadata": {},
   "outputs": [],
   "source": [
    "get_target = lambda df: (df['exposure1'].values, df['odefind'].values)\n",
    "y_train = get_target(df_train)\n",
    "y_val = get_target(df_val)\n",
    "durations_test, events_test = get_target(df_test)\n",
    "val = x_val, y_val"
   ]
  },
  {
   "cell_type": "code",
   "execution_count": 51,
   "metadata": {},
   "outputs": [
    {
     "data": {
      "text/plain": [
       "2"
      ]
     },
     "execution_count": 51,
     "metadata": {},
     "output_type": "execute_result"
    }
   ],
   "source": [
    "len(y_train)"
   ]
  },
  {
   "cell_type": "code",
   "execution_count": 52,
   "metadata": {},
   "outputs": [
    {
     "data": {
      "text/plain": [
       "2"
      ]
     },
     "execution_count": 52,
     "metadata": {},
     "output_type": "execute_result"
    }
   ],
   "source": [
    "len(val)"
   ]
  },
  {
   "cell_type": "code",
   "execution_count": 53,
   "metadata": {},
   "outputs": [],
   "source": [
    "in_features = x_train.shape[1]\n",
    "num_nodes = [32, 32]\n",
    "out_features = 1\n",
    "batch_norm = True\n",
    "dropout = 0.1\n",
    "output_bias = False\n",
    "\n",
    "net = tt.practical.MLPVanilla(in_features, num_nodes, out_features, batch_norm,\n",
    "                              dropout, output_bias=output_bias)"
   ]
  },
  {
   "cell_type": "code",
   "execution_count": 54,
   "metadata": {},
   "outputs": [],
   "source": [
    "model = CoxPH(net, tt.optim.Adam)"
   ]
  },
  {
   "cell_type": "code",
   "execution_count": 55,
   "metadata": {},
   "outputs": [
    {
     "data": {
      "image/png": "[encoded data removed]",
      "text/plain": [
       "<Figure size 432x288 with 1 Axes>"
      ]
     },
     "metadata": {
      "needs_background": "light"
     },
     "output_type": "display_data"
    }
   ],
   "source": [
    "batch_size = 1024\n",
    "lrfinder = model.lr_finder(x_train, y_train, batch_size, tolerance=10)\n",
    "_ = lrfinder.plot()"
   ]
  },
  {
   "cell_type": "code",
   "execution_count": 56,
   "metadata": {},
   "outputs": [
    {
     "data": {
      "text/plain": [
       "0.0613590727341321"
      ]
     },
     "execution_count": 56,
     "metadata": {},
     "output_type": "execute_result"
    }
   ],
   "source": [
    "lrfinder.get_best_lr()"
   ]
  },
  {
   "cell_type": "code",
   "execution_count": 57,
   "metadata": {},
   "outputs": [],
   "source": [
    "model.optimizer.set_lr(0.0001)"
   ]
  },
  {
   "cell_type": "code",
   "execution_count": 58,
   "metadata": {},
   "outputs": [],
   "source": [
    "epochs = 256\n",
    "callbacks = [tt.callbacks.EarlyStopping()]\n",
    "verbose = True"
   ]
  },
  {
   "cell_type": "code",
   "execution_count": 59,
   "metadata": {},
   "outputs": [
    {
     "name": "stdout",
     "output_type": "stream",
     "text": [
      "0:\t[0s / 0s],\t\ttrain_loss: 5.8477,\tval_loss: 5.6446\n",
      "1:\t[0s / 0s],\t\ttrain_loss: 5.1028,\tval_loss: 4.8867\n",
      "2:\t[0s / 0s],\t\ttrain_loss: 4.1968,\tval_loss: 3.9131\n",
      "3:\t[0s / 0s],\t\ttrain_loss: 3.5502,\tval_loss: 3.3612\n",
      "4:\t[0s / 1s],\t\ttrain_loss: 3.3912,\tval_loss: 3.1359\n",
      "5:\t[0s / 1s],\t\ttrain_loss: 3.2222,\tval_loss: 3.0797\n",
      "6:\t[0s / 1s],\t\ttrain_loss: 3.1392,\tval_loss: 3.0128\n",
      "7:\t[0s / 1s],\t\ttrain_loss: 3.1125,\tval_loss: 2.8485\n",
      "8:\t[0s / 2s],\t\ttrain_loss: 3.0140,\tval_loss: 2.7819\n",
      "9:\t[0s / 2s],\t\ttrain_loss: 2.9382,\tval_loss: 2.7861\n",
      "10:\t[0s / 2s],\t\ttrain_loss: 2.8507,\tval_loss: 2.5764\n",
      "11:\t[0s / 2s],\t\ttrain_loss: 2.9089,\tval_loss: 2.8538\n",
      "12:\t[0s / 3s],\t\ttrain_loss: 2.7036,\tval_loss: 2.5395\n",
      "13:\t[0s / 3s],\t\ttrain_loss: 2.6560,\tval_loss: 2.4669\n",
      "14:\t[0s / 3s],\t\ttrain_loss: 2.6929,\tval_loss: 2.4559\n",
      "15:\t[0s / 3s],\t\ttrain_loss: 2.5413,\tval_loss: 2.5430\n",
      "16:\t[0s / 4s],\t\ttrain_loss: 2.5527,\tval_loss: 2.1133\n",
      "17:\t[0s / 4s],\t\ttrain_loss: 2.5433,\tval_loss: 2.0447\n",
      "18:\t[0s / 4s],\t\ttrain_loss: 2.3529,\tval_loss: 2.2912\n",
      "19:\t[0s / 4s],\t\ttrain_loss: 2.3745,\tval_loss: 2.3806\n",
      "20:\t[0s / 5s],\t\ttrain_loss: 2.1731,\tval_loss: 2.1263\n",
      "21:\t[0s / 5s],\t\ttrain_loss: 2.1852,\tval_loss: 1.7542\n",
      "22:\t[0s / 5s],\t\ttrain_loss: 2.0666,\tval_loss: 1.7263\n",
      "23:\t[0s / 6s],\t\ttrain_loss: 2.1252,\tval_loss: 1.7182\n",
      "24:\t[0s / 6s],\t\ttrain_loss: 2.0520,\tval_loss: 1.8698\n",
      "25:\t[0s / 6s],\t\ttrain_loss: 1.9983,\tval_loss: 1.6210\n",
      "26:\t[0s / 6s],\t\ttrain_loss: 2.0034,\tval_loss: 1.6558\n",
      "27:\t[0s / 7s],\t\ttrain_loss: 1.9171,\tval_loss: 1.5301\n",
      "28:\t[0s / 7s],\t\ttrain_loss: 1.8658,\tval_loss: 1.4722\n",
      "29:\t[0s / 7s],\t\ttrain_loss: 1.8071,\tval_loss: 1.8081\n",
      "30:\t[0s / 7s],\t\ttrain_loss: 1.8411,\tval_loss: 1.4334\n",
      "31:\t[0s / 8s],\t\ttrain_loss: 1.8012,\tval_loss: 1.5138\n",
      "32:\t[0s / 8s],\t\ttrain_loss: 1.7675,\tval_loss: 1.4533\n",
      "33:\t[0s / 8s],\t\ttrain_loss: 1.6990,\tval_loss: 1.4259\n",
      "34:\t[0s / 8s],\t\ttrain_loss: 1.6539,\tval_loss: 1.2864\n",
      "35:\t[0s / 9s],\t\ttrain_loss: 1.6991,\tval_loss: 1.2245\n",
      "36:\t[0s / 9s],\t\ttrain_loss: 1.6578,\tval_loss: 1.2368\n",
      "37:\t[0s / 9s],\t\ttrain_loss: 1.5870,\tval_loss: 1.3424\n",
      "38:\t[0s / 9s],\t\ttrain_loss: 1.6231,\tval_loss: 1.1533\n",
      "39:\t[0s / 10s],\t\ttrain_loss: 1.5347,\tval_loss: 1.1508\n",
      "40:\t[0s / 10s],\t\ttrain_loss: 1.5334,\tval_loss: 1.5573\n",
      "41:\t[0s / 10s],\t\ttrain_loss: 1.5254,\tval_loss: 1.1269\n",
      "42:\t[0s / 10s],\t\ttrain_loss: 1.4520,\tval_loss: 1.0806\n",
      "43:\t[0s / 11s],\t\ttrain_loss: 1.4849,\tval_loss: 1.0548\n",
      "44:\t[0s / 11s],\t\ttrain_loss: 1.5006,\tval_loss: 1.0428\n",
      "45:\t[0s / 11s],\t\ttrain_loss: 1.4845,\tval_loss: 1.0840\n",
      "46:\t[0s / 11s],\t\ttrain_loss: 1.4344,\tval_loss: 1.0027\n",
      "47:\t[0s / 11s],\t\ttrain_loss: 1.4405,\tval_loss: 1.0851\n",
      "48:\t[0s / 12s],\t\ttrain_loss: 1.4119,\tval_loss: 1.0005\n",
      "49:\t[0s / 12s],\t\ttrain_loss: 1.3447,\tval_loss: 1.5475\n",
      "50:\t[0s / 12s],\t\ttrain_loss: 1.3658,\tval_loss: 0.9612\n",
      "51:\t[0s / 12s],\t\ttrain_loss: 1.3528,\tval_loss: 2.1846\n",
      "52:\t[0s / 13s],\t\ttrain_loss: 1.3172,\tval_loss: 1.0083\n",
      "53:\t[0s / 13s],\t\ttrain_loss: 1.3812,\tval_loss: 0.9741\n",
      "54:\t[0s / 13s],\t\ttrain_loss: 1.3002,\tval_loss: 0.9162\n",
      "55:\t[0s / 13s],\t\ttrain_loss: 1.2746,\tval_loss: 1.0924\n",
      "56:\t[0s / 14s],\t\ttrain_loss: 1.2665,\tval_loss: 1.0695\n",
      "57:\t[0s / 14s],\t\ttrain_loss: 1.2315,\tval_loss: 0.8771\n",
      "58:\t[0s / 14s],\t\ttrain_loss: 1.3003,\tval_loss: 1.1143\n",
      "59:\t[0s / 14s],\t\ttrain_loss: 1.2798,\tval_loss: 0.9698\n",
      "60:\t[0s / 15s],\t\ttrain_loss: 1.1417,\tval_loss: 0.9192\n",
      "61:\t[0s / 15s],\t\ttrain_loss: 1.2559,\tval_loss: 0.8486\n",
      "62:\t[0s / 15s],\t\ttrain_loss: 1.2525,\tval_loss: 1.3421\n",
      "63:\t[0s / 15s],\t\ttrain_loss: 1.2362,\tval_loss: 0.8169\n",
      "64:\t[0s / 16s],\t\ttrain_loss: 1.2349,\tval_loss: 0.8904\n",
      "65:\t[0s / 16s],\t\ttrain_loss: 1.2091,\tval_loss: 0.9236\n",
      "66:\t[0s / 16s],\t\ttrain_loss: 1.1552,\tval_loss: 0.8398\n",
      "67:\t[0s / 16s],\t\ttrain_loss: 1.1593,\tval_loss: 0.7892\n",
      "68:\t[0s / 17s],\t\ttrain_loss: 1.2172,\tval_loss: 0.7943\n",
      "69:\t[0s / 17s],\t\ttrain_loss: 1.1734,\tval_loss: 0.8759\n",
      "70:\t[0s / 17s],\t\ttrain_loss: 1.1489,\tval_loss: 1.1062\n",
      "71:\t[0s / 17s],\t\ttrain_loss: 1.1664,\tval_loss: 0.7807\n",
      "72:\t[0s / 18s],\t\ttrain_loss: 1.1635,\tval_loss: 0.8400\n",
      "73:\t[0s / 18s],\t\ttrain_loss: 1.1441,\tval_loss: 0.9302\n",
      "74:\t[0s / 18s],\t\ttrain_loss: 1.0517,\tval_loss: 0.8520\n",
      "75:\t[0s / 18s],\t\ttrain_loss: 1.0468,\tval_loss: 0.8054\n",
      "76:\t[0s / 19s],\t\ttrain_loss: 1.0951,\tval_loss: 0.7401\n",
      "77:\t[0s / 19s],\t\ttrain_loss: 1.1419,\tval_loss: 0.9543\n",
      "78:\t[0s / 19s],\t\n",
      "79:\t[0s / 19s],\t\n",
      "80:\t[0s / 20s],\t\n",
      "81:\t[0s / 20s],\t\n",
      "82:\t[0s / 20s],\t\n",
      "83:\t[0s / 20s],\t\n",
      "84:\t[0s / 21s],\t\n",
      "85:\t[0s / 21s],\t\n",
      "86:\t[0s / 21s],\t\n",
      "CPU times: user 35.5 s, sys: 3.6 s, total: 39.1 s\n",
      "Wall time: 21.6 s\n"
     ]
    }
   ],
   "source": [
    "%%time\n",
    "log = model.fit(x_train, y_train, batch_size, epochs, callbacks, verbose,\n",
    "                val_data=val, val_batch_size=batch_size)"
   ]
  },
  {
   "cell_type": "code",
   "execution_count": 61,
   "metadata": {},
   "outputs": [
    {
     "data": {
      "image/png": "[encoded data removed]",
      "text/plain": [
       "<Figure size 432x288 with 1 Axes>"
      ]
     },
     "metadata": {
      "needs_background": "light"
     },
     "output_type": "display_data"
    }
   ],
   "source": [
    "_ = log.plot()"
   ]
  },
  {
   "cell_type": "code",
   "execution_count": 62,
   "metadata": {},
   "outputs": [
    {
     "data": {
      "text/plain": [
       "-3.2869935"
      ]
     },
     "execution_count": 62,
     "metadata": {},
     "output_type": "execute_result"
    }
   ],
   "source": [
    "\n",
    "model.partial_log_likelihood(*val).mean()"
   ]
  },
  {
   "cell_type": "code",
   "execution_count": 63,
   "metadata": {},
   "outputs": [],
   "source": [
    "_ = model.compute_baseline_hazards()"
   ]
  },
  {
   "cell_type": "code",
   "execution_count": 64,
   "metadata": {},
   "outputs": [],
   "source": [
    "surv = model.predict_surv_df(x_test)"
   ]
  },
  {
   "cell_type": "code",
   "execution_count": 65,
   "metadata": {},
   "outputs": [
    {
     "data": {
      "text/plain": [
       "(138, 20065)"
      ]
     },
     "execution_count": 65,
     "metadata": {},
     "output_type": "execute_result"
    }
   ],
   "source": [
    "surv.shape"
   ]
  },
  {
   "cell_type": "code",
   "execution_count": 66,
   "metadata": {},
   "outputs": [
    {
     "data": {
      "image/png": "[encoded data removed]",
      "text/plain": [
       "<Figure size 432x288 with 1 Axes>"
      ]
     },
     "metadata": {
      "needs_background": "light"
     },
     "output_type": "display_data"
    }
   ],
   "source": [
    "surv.iloc[:, :100].plot()\n",
    "plt.ylabel('S(t | x)')\n",
    "_ = plt.xlabel('Time')\n",
    "plt.legend().set_visible(False)"
   ]
  },
  {
   "cell_type": "code",
   "execution_count": 67,
   "metadata": {},
   "outputs": [],
   "source": [
    "ev = EvalSurv(surv, durations_test, events_test, censor_surv='km')"
   ]
  },
  {
   "cell_type": "code",
   "execution_count": 68,
   "metadata": {},
   "outputs": [
    {
     "data": {
      "text/plain": [
       "0.9990654390798518"
      ]
     },
     "execution_count": 68,
     "metadata": {},
     "output_type": "execute_result"
    }
   ],
   "source": [
    "ev.concordance_td()"
   ]
  },
  {
   "cell_type": "code",
   "execution_count": 69,
   "metadata": {},
   "outputs": [
    {
     "data": {
      "image/png": "[encoded data removed]",
      "text/plain": [
       "<Figure size 432x288 with 1 Axes>"
      ]
     },
     "metadata": {
      "needs_background": "light"
     },
     "output_type": "display_data"
    }
   ],
   "source": [
    "time_grid = np.linspace(durations_test.min(), durations_test.max(), 100)\n",
    "_ = ev.brier_score(time_grid).plot()"
   ]
  },
  {
   "cell_type": "code",
   "execution_count": 70,
   "metadata": {},
   "outputs": [
    {
     "data": {
      "text/plain": [
       "0.0003709662869544847"
      ]
     },
     "execution_count": 70,
     "metadata": {},
     "output_type": "execute_result"
    }
   ],
   "source": [
    "ev.integrated_brier_score(time_grid)"
   ]
  },
  {
   "cell_type": "code",
   "execution_count": 71,
   "metadata": {},
   "outputs": [
    {
     "data": {
      "text/plain": [
       "0.0015319809100361338"
      ]
     },
     "execution_count": 71,
     "metadata": {},
     "output_type": "execute_result"
    }
   ],
   "source": [
    "\n",
    "ev.integrated_nbll(time_grid)"
   ]
  },
  {
   "cell_type": "code",
   "execution_count": 72,
   "metadata": {},
   "outputs": [],
   "source": [
    "df=surv.T"
   ]
  },
  {
   "cell_type": "code",
   "execution_count": 50,
   "metadata": {},
   "outputs": [],
   "source": [
    "df.to_csv('/Users/r.shyaamprasadh/Downloads/survival_probabilites.csv')"
   ]
  },
  {
   "cell_type": "code",
   "execution_count": 51,
   "metadata": {},
   "outputs": [],
   "source": [
    "x_test=pd.DataFrame(x_test)"
   ]
  },
  {
   "cell_type": "code",
   "execution_count": 52,
   "metadata": {},
   "outputs": [],
   "source": [
    "x_test.to_csv('/Users/r.shyaamprasadh/Downloads/test_data.csv')"
   ]
  },
  {
   "cell_type": "code",
   "execution_count": 53,
   "metadata": {},
   "outputs": [],
   "source": [
    "df_test.to_csv('/Users/r.shyaamprasadh/Downloads/test_data_1.csv')"
   ]
  },
  {
   "cell_type": "markdown",
   "metadata": {},
   "source": [
    "### PCHazard"
   ]
  },
  {
   "cell_type": "code",
   "execution_count": 73,
   "metadata": {},
   "outputs": [],
   "source": [
    "from pycox.models import CoxTime\n",
    "from pycox.models import PCHazard\n",
    "from pycox.models.cox_time import MLPVanillaCoxTime\n",
    "from pycox.evaluation import EvalSurv"
   ]
  },
  {
   "cell_type": "code",
   "execution_count": 74,
   "metadata": {},
   "outputs": [],
   "source": [
    "df_train=data_cox\n",
    "df_test = df_train.sample(frac=0.2)\n",
    "df_train = df_train.drop(df_test.index)\n",
    "df_val = df_train.sample(frac=0.2)\n",
    "df_train = df_train.drop(df_val.index)"
   ]
  },
  {
   "cell_type": "code",
   "execution_count": 75,
   "metadata": {},
   "outputs": [
    {
     "data": {
      "text/plain": [
       "(64208, 17)"
      ]
     },
     "execution_count": 75,
     "metadata": {},
     "output_type": "execute_result"
    }
   ],
   "source": [
    "df_train.shape"
   ]
  },
  {
   "cell_type": "code",
   "execution_count": 76,
   "metadata": {},
   "outputs": [],
   "source": [
    "cols_standardize = ['residual_value', 'sco1_pop_final', 'amount','Origination time','balance time','current_bal']\n",
    "cols_leave = ['year', 'odefind','Term_1','exposure1']\n",
    "\n",
    "standardize = [([col], StandardScaler()) for col in cols_standardize]\n",
    "leave = [(col, None) for col in cols_leave]\n",
    "\n",
    "x_mapper = DataFrameMapper(standardize + leave)"
   ]
  },
  {
   "cell_type": "code",
   "execution_count": 77,
   "metadata": {},
   "outputs": [],
   "source": [
    "x_train = x_mapper.fit_transform(df_train).astype('float32')\n",
    "x_val = x_mapper.transform(df_val).astype('float32')\n",
    "x_test = x_mapper.transform(df_test).astype('float32')"
   ]
  },
  {
   "cell_type": "code",
   "execution_count": 78,
   "metadata": {},
   "outputs": [
    {
     "data": {
      "text/html": [
       "<div>\n",
       "<style scoped>\n",
       "    .dataframe tbody tr th:only-of-type {\n",
       "        vertical-align: middle;\n",
       "    }\n",
       "\n",
       "    .dataframe tbody tr th {\n",
       "        vertical-align: top;\n",
       "    }\n",
       "\n",
       "    .dataframe thead th {\n",
       "        text-align: right;\n",
       "    }\n",
       "</style>\n",
       "<table border=\"1\" class=\"dataframe\">\n",
       "  <thead>\n",
       "    <tr style=\"text-align: right;\">\n",
       "      <th></th>\n",
       "      <th>residual_value</th>\n",
       "      <th>sco1_pop_final</th>\n",
       "      <th>Term</th>\n",
       "      <th>amount</th>\n",
       "      <th>origterm</th>\n",
       "      <th>year</th>\n",
       "      <th>odefind</th>\n",
       "      <th>exposure1</th>\n",
       "      <th>advance_pct</th>\n",
       "      <th>Origination time</th>\n",
       "      <th>balance time</th>\n",
       "      <th>current_bal</th>\n",
       "      <th>Term_1</th>\n",
       "      <th>check</th>\n",
       "      <th>start</th>\n",
       "      <th>id</th>\n",
       "      <th>stop</th>\n",
       "    </tr>\n",
       "  </thead>\n",
       "  <tbody>\n",
       "    <tr>\n",
       "      <th>0</th>\n",
       "      <td>10330</td>\n",
       "      <td>99.70</td>\n",
       "      <td>36</td>\n",
       "      <td>15460</td>\n",
       "      <td>36</td>\n",
       "      <td>2006</td>\n",
       "      <td>0</td>\n",
       "      <td>140</td>\n",
       "      <td>0.653423</td>\n",
       "      <td>156</td>\n",
       "      <td>119</td>\n",
       "      <td>0</td>\n",
       "      <td>0</td>\n",
       "      <td>1</td>\n",
       "      <td>118</td>\n",
       "      <td>1</td>\n",
       "      <td>119</td>\n",
       "    </tr>\n",
       "    <tr>\n",
       "      <th>1</th>\n",
       "      <td>10282</td>\n",
       "      <td>97.80</td>\n",
       "      <td>36</td>\n",
       "      <td>13955</td>\n",
       "      <td>36</td>\n",
       "      <td>2006</td>\n",
       "      <td>0</td>\n",
       "      <td>140</td>\n",
       "      <td>0.777221</td>\n",
       "      <td>156</td>\n",
       "      <td>119</td>\n",
       "      <td>0</td>\n",
       "      <td>0</td>\n",
       "      <td>2</td>\n",
       "      <td>118</td>\n",
       "      <td>2</td>\n",
       "      <td>119</td>\n",
       "    </tr>\n",
       "    <tr>\n",
       "      <th>2</th>\n",
       "      <td>10328</td>\n",
       "      <td>99.30</td>\n",
       "      <td>36</td>\n",
       "      <td>15730</td>\n",
       "      <td>36</td>\n",
       "      <td>2006</td>\n",
       "      <td>0</td>\n",
       "      <td>140</td>\n",
       "      <td>0.750477</td>\n",
       "      <td>157</td>\n",
       "      <td>121</td>\n",
       "      <td>0</td>\n",
       "      <td>0</td>\n",
       "      <td>3</td>\n",
       "      <td>120</td>\n",
       "      <td>3</td>\n",
       "      <td>121</td>\n",
       "    </tr>\n",
       "    <tr>\n",
       "      <th>3</th>\n",
       "      <td>3016</td>\n",
       "      <td>0.00</td>\n",
       "      <td>36</td>\n",
       "      <td>7243</td>\n",
       "      <td>36</td>\n",
       "      <td>2006</td>\n",
       "      <td>0</td>\n",
       "      <td>140</td>\n",
       "      <td>0.936514</td>\n",
       "      <td>156</td>\n",
       "      <td>119</td>\n",
       "      <td>0</td>\n",
       "      <td>0</td>\n",
       "      <td>4</td>\n",
       "      <td>118</td>\n",
       "      <td>4</td>\n",
       "      <td>119</td>\n",
       "    </tr>\n",
       "    <tr>\n",
       "      <th>4</th>\n",
       "      <td>12949</td>\n",
       "      <td>99.90</td>\n",
       "      <td>36</td>\n",
       "      <td>17020</td>\n",
       "      <td>36</td>\n",
       "      <td>2006</td>\n",
       "      <td>0</td>\n",
       "      <td>140</td>\n",
       "      <td>0.566955</td>\n",
       "      <td>157</td>\n",
       "      <td>119</td>\n",
       "      <td>0</td>\n",
       "      <td>0</td>\n",
       "      <td>5</td>\n",
       "      <td>118</td>\n",
       "      <td>5</td>\n",
       "      <td>119</td>\n",
       "    </tr>\n",
       "    <tr>\n",
       "      <th>...</th>\n",
       "      <td>...</td>\n",
       "      <td>...</td>\n",
       "      <td>...</td>\n",
       "      <td>...</td>\n",
       "      <td>...</td>\n",
       "      <td>...</td>\n",
       "      <td>...</td>\n",
       "      <td>...</td>\n",
       "      <td>...</td>\n",
       "      <td>...</td>\n",
       "      <td>...</td>\n",
       "      <td>...</td>\n",
       "      <td>...</td>\n",
       "      <td>...</td>\n",
       "      <td>...</td>\n",
       "      <td>...</td>\n",
       "      <td>...</td>\n",
       "    </tr>\n",
       "    <tr>\n",
       "      <th>100320</th>\n",
       "      <td>4378</td>\n",
       "      <td>99.81</td>\n",
       "      <td>36</td>\n",
       "      <td>7000</td>\n",
       "      <td>36</td>\n",
       "      <td>2020</td>\n",
       "      <td>0</td>\n",
       "      <td>3</td>\n",
       "      <td>0.327256</td>\n",
       "      <td>17</td>\n",
       "      <td>1447</td>\n",
       "      <td>7008</td>\n",
       "      <td>0</td>\n",
       "      <td>100321</td>\n",
       "      <td>1446</td>\n",
       "      <td>100321</td>\n",
       "      <td>1447</td>\n",
       "    </tr>\n",
       "    <tr>\n",
       "      <th>100321</th>\n",
       "      <td>12075</td>\n",
       "      <td>99.61</td>\n",
       "      <td>36</td>\n",
       "      <td>19530</td>\n",
       "      <td>36</td>\n",
       "      <td>2020</td>\n",
       "      <td>0</td>\n",
       "      <td>3</td>\n",
       "      <td>1.000000</td>\n",
       "      <td>18</td>\n",
       "      <td>1447</td>\n",
       "      <td>19544</td>\n",
       "      <td>0</td>\n",
       "      <td>100322</td>\n",
       "      <td>1446</td>\n",
       "      <td>100322</td>\n",
       "      <td>1447</td>\n",
       "    </tr>\n",
       "    <tr>\n",
       "      <th>100322</th>\n",
       "      <td>12725</td>\n",
       "      <td>99.07</td>\n",
       "      <td>36</td>\n",
       "      <td>21073</td>\n",
       "      <td>36</td>\n",
       "      <td>2020</td>\n",
       "      <td>0</td>\n",
       "      <td>3</td>\n",
       "      <td>1.000000</td>\n",
       "      <td>18</td>\n",
       "      <td>1447</td>\n",
       "      <td>20357</td>\n",
       "      <td>0</td>\n",
       "      <td>100323</td>\n",
       "      <td>1446</td>\n",
       "      <td>100323</td>\n",
       "      <td>1447</td>\n",
       "    </tr>\n",
       "    <tr>\n",
       "      <th>100323</th>\n",
       "      <td>15000</td>\n",
       "      <td>99.04</td>\n",
       "      <td>36</td>\n",
       "      <td>28832</td>\n",
       "      <td>36</td>\n",
       "      <td>2020</td>\n",
       "      <td>0</td>\n",
       "      <td>3</td>\n",
       "      <td>0.636019</td>\n",
       "      <td>18</td>\n",
       "      <td>1447</td>\n",
       "      <td>28041</td>\n",
       "      <td>0</td>\n",
       "      <td>100324</td>\n",
       "      <td>1446</td>\n",
       "      <td>100324</td>\n",
       "      <td>1447</td>\n",
       "    </tr>\n",
       "    <tr>\n",
       "      <th>100324</th>\n",
       "      <td>17664</td>\n",
       "      <td>97.75</td>\n",
       "      <td>36</td>\n",
       "      <td>25375</td>\n",
       "      <td>36</td>\n",
       "      <td>2020</td>\n",
       "      <td>0</td>\n",
       "      <td>3</td>\n",
       "      <td>0.863830</td>\n",
       "      <td>18</td>\n",
       "      <td>1447</td>\n",
       "      <td>24934</td>\n",
       "      <td>0</td>\n",
       "      <td>100325</td>\n",
       "      <td>1446</td>\n",
       "      <td>100325</td>\n",
       "      <td>1447</td>\n",
       "    </tr>\n",
       "  </tbody>\n",
       "</table>\n",
       "<p>100325 rows × 17 columns</p>\n",
       "</div>"
      ],
      "text/plain": [
       "        residual_value  sco1_pop_final  Term  amount  origterm  year  odefind  \\\n",
       "0                10330           99.70    36   15460        36  2006        0   \n",
       "1                10282           97.80    36   13955        36  2006        0   \n",
       "2                10328           99.30    36   15730        36  2006        0   \n",
       "3                 3016            0.00    36    7243        36  2006        0   \n",
       "4                12949           99.90    36   17020        36  2006        0   \n",
       "...                ...             ...   ...     ...       ...   ...      ...   \n",
       "100320            4378           99.81    36    7000        36  2020        0   \n",
       "100321           12075           99.61    36   19530        36  2020        0   \n",
       "100322           12725           99.07    36   21073        36  2020        0   \n",
       "100323           15000           99.04    36   28832        36  2020        0   \n",
       "100324           17664           97.75    36   25375        36  2020        0   \n",
       "\n",
       "        exposure1  advance_pct  Origination time  balance time  current_bal  \\\n",
       "0             140     0.653423               156           119            0   \n",
       "1             140     0.777221               156           119            0   \n",
       "2             140     0.750477               157           121            0   \n",
       "3             140     0.936514               156           119            0   \n",
       "4             140     0.566955               157           119            0   \n",
       "...           ...          ...               ...           ...          ...   \n",
       "100320          3     0.327256                17          1447         7008   \n",
       "100321          3     1.000000                18          1447        19544   \n",
       "100322          3     1.000000                18          1447        20357   \n",
       "100323          3     0.636019                18          1447        28041   \n",
       "100324          3     0.863830                18          1447        24934   \n",
       "\n",
       "        Term_1   check  start      id  stop  \n",
       "0            0       1    118       1   119  \n",
       "1            0       2    118       2   119  \n",
       "2            0       3    120       3   121  \n",
       "3            0       4    118       4   119  \n",
       "4            0       5    118       5   119  \n",
       "...        ...     ...    ...     ...   ...  \n",
       "100320       0  100321   1446  100321  1447  \n",
       "100321       0  100322   1446  100322  1447  \n",
       "100322       0  100323   1446  100323  1447  \n",
       "100323       0  100324   1446  100324  1447  \n",
       "100324       0  100325   1446  100325  1447  \n",
       "\n",
       "[100325 rows x 17 columns]"
      ]
     },
     "execution_count": 78,
     "metadata": {},
     "output_type": "execute_result"
    }
   ],
   "source": [
    "data_cox"
   ]
  },
  {
   "cell_type": "code",
   "execution_count": 79,
   "metadata": {},
   "outputs": [],
   "source": [
    "num_durations = 10\n",
    "labtrans = PCHazard.label_transform(num_durations)\n",
    "get_target = lambda data_cox: (data_cox['exposure1'].values, data_cox['odefind'].values)\n",
    "y_train = labtrans.fit_transform(*get_target(df_train))\n",
    "y_val = labtrans.transform(*get_target(df_val))\n",
    "durations_test, events_test = get_target(df_test)\n",
    "val = tt.tuplefy(x_val, y_val)"
   ]
  },
  {
   "cell_type": "code",
   "execution_count": 80,
   "metadata": {},
   "outputs": [],
   "source": [
    "##https://arxiv.org/abs/1910.06724"
   ]
  },
  {
   "cell_type": "code",
   "execution_count": 81,
   "metadata": {},
   "outputs": [
    {
     "data": {
      "text/plain": [
       "pycox.preprocessing.label_transforms.LabTransPCHazard"
      ]
     },
     "execution_count": 81,
     "metadata": {},
     "output_type": "execute_result"
    }
   ],
   "source": [
    "type(labtrans)"
   ]
  },
  {
   "cell_type": "code",
   "execution_count": 82,
   "metadata": {},
   "outputs": [
    {
     "data": {
      "text/plain": [
       "(array([9, 9, 9, ..., 0, 0, 0]),\n",
       " array([0., 0., 0., ..., 0., 0., 0.], dtype=float32),\n",
       " array([1.        , 1.        , 1.        , ..., 0.21428572, 0.21428572,\n",
       "        0.21428572], dtype=float32))"
      ]
     },
     "execution_count": 82,
     "metadata": {},
     "output_type": "execute_result"
    }
   ],
   "source": [
    "y_train"
   ]
  },
  {
   "cell_type": "code",
   "execution_count": 83,
   "metadata": {},
   "outputs": [],
   "source": [
    "in_features = x_train.shape[1]\n",
    "num_nodes = [32, 32]\n",
    "out_features = labtrans.out_features\n",
    "batch_norm = True\n",
    "dropout = 0.1\n",
    "\n",
    "net = tt.practical.MLPVanilla(in_features, num_nodes, out_features, batch_norm, dropout)"
   ]
  },
  {
   "cell_type": "code",
   "execution_count": 84,
   "metadata": {},
   "outputs": [],
   "source": [
    "model = PCHazard(net, tt.optim.Adam, duration_index=labtrans.cuts)"
   ]
  },
  {
   "cell_type": "code",
   "execution_count": 85,
   "metadata": {},
   "outputs": [
    {
     "data": {
      "image/png": "[encoded data removed]",
      "text/plain": [
       "<Figure size 432x288 with 1 Axes>"
      ]
     },
     "metadata": {
      "needs_background": "light"
     },
     "output_type": "display_data"
    }
   ],
   "source": [
    "batch_size = 256\n",
    "lr_finder = model.lr_finder(x_train, y_train, batch_size, tolerance=8)\n",
    "_ = lr_finder.plot()"
   ]
  },
  {
   "cell_type": "code",
   "execution_count": 86,
   "metadata": {},
   "outputs": [
    {
     "data": {
      "text/plain": [
       "0.3944206059437682"
      ]
     },
     "execution_count": 86,
     "metadata": {},
     "output_type": "execute_result"
    }
   ],
   "source": [
    "lr_finder.get_best_lr()"
   ]
  },
  {
   "cell_type": "code",
   "execution_count": 87,
   "metadata": {},
   "outputs": [],
   "source": [
    "model.optimizer.set_lr(0.001)"
   ]
  },
  {
   "cell_type": "code",
   "execution_count": 88,
   "metadata": {},
   "outputs": [
    {
     "name": "stdout",
     "output_type": "stream",
     "text": [
      "0:\t[0s / 0s],\t\ttrain_loss: 1.2619,\tval_loss: 0.4439\n",
      "1:\t[0s / 1s],\t\ttrain_loss: 0.1703,\tval_loss: 0.0533\n",
      "2:\t[0s / 2s],\t\ttrain_loss: 0.0542,\tval_loss: 1.5375\n",
      "3:\t[0s / 2s],\t\ttrain_loss: 0.0298,\tval_loss: 0.0385\n",
      "4:\t[0s / 3s],\t\ttrain_loss: 0.0209,\tval_loss: 0.0143\n",
      "5:\t[0s / 4s],\t\ttrain_loss: 0.0174,\tval_loss: 0.0595\n",
      "6:\t[0s / 5s],\t\ttrain_loss: 0.0149,\tval_loss: 0.0093\n",
      "7:\t[0s / 5s],\t\ttrain_loss: 0.0126,\tval_loss: 13.8563\n",
      "8:\t[0s / 6s],\t\ttrain_loss: 0.0117,\tval_loss: 0.0378\n",
      "9:\t[0s / 7s],\t\ttrain_loss: 0.0109,\tval_loss: 0.0505\n",
      "10:\t[0s / 7s],\t\ttrain_loss: 0.0101,\tval_loss: 5.8670\n",
      "11:\t[0s / 8s],\t\ttrain_loss: 0.0100,\tval_loss: 1.1072\n",
      "12:\t[0s / 9s],\t\ttrain_loss: 0.0095,\tval_loss: 1.7462\n",
      "13:\t[0s / 10s],\t\ttrain_loss: 0.0090,\tval_loss: 0.0312\n",
      "14:\t[0s / 10s],\t\ttrain_loss: 0.0094,\tval_loss: 0.0597\n",
      "15:\t[0s / 11s],\t\ttrain_loss: 0.0089,\tval_loss: 0.0113\n",
      "16:\t[0s / 12s],\t\ttrain_loss: 0.0088,\tval_loss: 0.0318\n"
     ]
    }
   ],
   "source": [
    "epochs = 100\n",
    "callbacks = [tt.callbacks.EarlyStopping()]\n",
    "log = model.fit(x_train, y_train, batch_size, epochs, callbacks, val_data=val)"
   ]
  },
  {
   "cell_type": "code",
   "execution_count": 89,
   "metadata": {},
   "outputs": [
    {
     "data": {
      "image/png": "[encoded data removed]",
      "text/plain": [
       "<Figure size 432x288 with 1 Axes>"
      ]
     },
     "metadata": {
      "needs_background": "light"
     },
     "output_type": "display_data"
    }
   ],
   "source": [
    "_ = log.plot()"
   ]
  },
  {
   "cell_type": "code",
   "execution_count": 108,
   "metadata": {},
   "outputs": [],
   "source": [
    "surv =(model.predict_surv_df(x_test))"
   ]
  },
  {
   "cell_type": "code",
   "execution_count": 115,
   "metadata": {},
   "outputs": [],
   "source": [
    "surv1=surv[10:40]"
   ]
  },
  {
   "cell_type": "code",
   "execution_count": 116,
   "metadata": {},
   "outputs": [
    {
     "data": {
      "image/png": "[encoded data removed]",
      "text/plain": [
       "<Figure size 432x288 with 1 Axes>"
      ]
     },
     "metadata": {
      "needs_background": "light"
     },
     "output_type": "display_data"
    }
   ],
   "source": [
    "surv1.iloc[:, :25].plot(drawstyle='steps-post')\n",
    "plt.ylabel('S(t | x)')\n",
    "_ = plt.xlabel('Time')\n",
    "plt.legend().set_visible(False)"
   ]
  },
  {
   "cell_type": "code",
   "execution_count": 98,
   "metadata": {},
   "outputs": [],
   "source": [
    "model.sub = 10"
   ]
  },
  {
   "cell_type": "code",
   "execution_count": 122,
   "metadata": {},
   "outputs": [
    {
     "data": {
      "image/png": "[encoded data removed]",
      "text/plain": [
       "<Figure size 432x288 with 1 Axes>"
      ]
     },
     "metadata": {
      "needs_background": "light"
     },
     "output_type": "display_data"
    }
   ],
   "source": [
    "surv2 = model.predict_surv_df(x_test)\n",
    "surv3=surv2[10:40]\n",
    "surv3.iloc[:, :25].plot(drawstyle='steps-post')\n",
    "plt.ylabel('S(t | x)')\n",
    "_ = plt.xlabel('Time')\n",
    "plt.legend().set_visible(False)"
   ]
  },
  {
   "cell_type": "code",
   "execution_count": 123,
   "metadata": {},
   "outputs": [],
   "source": [
    "ev = EvalSurv(surv, durations_test, events_test, censor_surv='km')"
   ]
  },
  {
   "cell_type": "code",
   "execution_count": 154,
   "metadata": {},
   "outputs": [
    {
     "data": {
      "text/plain": [
       "0.9993208060774752"
      ]
     },
     "execution_count": 154,
     "metadata": {},
     "output_type": "execute_result"
    }
   ],
   "source": [
    "ev.concordance_td('antolini')"
   ]
  },
  {
   "cell_type": "markdown",
   "metadata": {},
   "source": [
    "## coxccmethod"
   ]
  },
  {
   "cell_type": "code",
   "execution_count": 156,
   "metadata": {},
   "outputs": [],
   "source": [
    "from pycox.models import CoxCC\n",
    "from pycox.evaluation import EvalSurv"
   ]
  },
  {
   "cell_type": "code",
   "execution_count": 159,
   "metadata": {},
   "outputs": [],
   "source": [
    "get_target = lambda data_cox: (data_cox['exposure1'].values, data_cox['odefind'].values)\n",
    "y_train = get_target(df_train)\n",
    "y_val = get_target(df_val)\n",
    "durations_test, events_test = get_target(df_test)\n",
    "val = tt.tuplefy(x_val, y_val)"
   ]
  },
  {
   "cell_type": "code",
   "execution_count": 160,
   "metadata": {},
   "outputs": [
    {
     "data": {
      "text/plain": [
       "((16052, 10), ((16052,), (16052,)))"
      ]
     },
     "execution_count": 160,
     "metadata": {},
     "output_type": "execute_result"
    }
   ],
   "source": [
    "val.shapes()"
   ]
  },
  {
   "cell_type": "code",
   "execution_count": 161,
   "metadata": {},
   "outputs": [
    {
     "data": {
      "text/plain": [
       "((32104, 10), ((32104,), (32104,)))"
      ]
     },
     "execution_count": 161,
     "metadata": {},
     "output_type": "execute_result"
    }
   ],
   "source": [
    "val.repeat(2).cat().shapes()"
   ]
  },
  {
   "cell_type": "code",
   "execution_count": 162,
   "metadata": {},
   "outputs": [],
   "source": [
    "in_features = x_train.shape[1]\n",
    "num_nodes = [32, 32]\n",
    "out_features = 1\n",
    "batch_norm = True\n",
    "dropout = 0.1\n",
    "output_bias = False\n",
    "\n",
    "net = tt.practical.MLPVanilla(in_features, num_nodes, out_features, batch_norm,\n",
    "                              dropout, output_bias=output_bias)"
   ]
  },
  {
   "cell_type": "code",
   "execution_count": 163,
   "metadata": {},
   "outputs": [],
   "source": [
    "model = CoxCC(net, tt.optim.Adam)"
   ]
  },
  {
   "cell_type": "code",
   "execution_count": 164,
   "metadata": {},
   "outputs": [
    {
     "data": {
      "image/png": "[encoded data removed]",
      "text/plain": [
       "<Figure size 432x288 with 1 Axes>"
      ]
     },
     "metadata": {
      "needs_background": "light"
     },
     "output_type": "display_data"
    }
   ],
   "source": [
    "batch_size = 256\n",
    "lrfinder = model.lr_finder(x_train, y_train, batch_size, tolerance=2)\n",
    "_ = lrfinder.plot()"
   ]
  },
  {
   "cell_type": "code",
   "execution_count": 165,
   "metadata": {},
   "outputs": [
    {
     "data": {
      "text/plain": [
       "0.0001"
      ]
     },
     "execution_count": 165,
     "metadata": {},
     "output_type": "execute_result"
    }
   ],
   "source": [
    "lrfinder.get_best_lr()"
   ]
  },
  {
   "cell_type": "code",
   "execution_count": 167,
   "metadata": {},
   "outputs": [],
   "source": [
    "model.optimizer.set_lr(0.0001)"
   ]
  },
  {
   "cell_type": "code",
   "execution_count": 177,
   "metadata": {},
   "outputs": [],
   "source": [
    "epochs = 1024\n",
    "callbacks = [tt.callbacks.EarlyStopping()]\n",
    "verbose = True"
   ]
  },
  {
   "cell_type": "code",
   "execution_count": 178,
   "metadata": {},
   "outputs": [
    {
     "name": "stdout",
     "output_type": "stream",
     "text": [
      "25:\t[0s / 0s],\t\ttrain_loss: 0.8537,\tval_loss: 0.6277\n",
      "26:\t[0s / 0s],\t\ttrain_loss: 0.9120,\tval_loss: 0.6007\n",
      "27:\t[0s / 0s],\t\ttrain_loss: 0.8930,\tval_loss: 0.6504\n",
      "28:\t[0s / 0s],\t\ttrain_loss: 0.9924,\tval_loss: 0.7034\n",
      "29:\t[0s / 0s],\t\ttrain_loss: 0.7772,\tval_loss: 0.7265\n",
      "30:\t[0s / 0s],\t\ttrain_loss: 0.8491,\tval_loss: 0.7603\n",
      "31:\t[0s / 0s],\t\ttrain_loss: 0.7778,\tval_loss: 0.7848\n",
      "32:\t[0s / 0s],\t\ttrain_loss: 0.9300,\tval_loss: 0.7890\n",
      "33:\t[0s / 0s],\t\ttrain_loss: 0.8453,\tval_loss: 0.7700\n",
      "34:\t[0s / 0s],\t\ttrain_loss: 0.9388,\tval_loss: 0.7738\n",
      "35:\t[0s / 0s],\t\ttrain_loss: 0.7828,\tval_loss: 0.7695\n",
      "36:\t[0s / 0s],\t\ttrain_loss: 0.8262,\tval_loss: 0.7547\n",
      "CPU times: user 293 ms, sys: 36.3 ms, total: 329 ms\n",
      "Wall time: 247 ms\n"
     ]
    }
   ],
   "source": [
    "%%time\n",
    "log = model.fit(x_train, y_train, batch_size, epochs, callbacks, verbose,\n",
    "                val_data=val.repeat(10).cat())"
   ]
  },
  {
   "cell_type": "code",
   "execution_count": 179,
   "metadata": {},
   "outputs": [
    {
     "data": {
      "image/png": "[encoded data removed]",
      "text/plain": [
       "<Figure size 432x288 with 1 Axes>"
      ]
     },
     "metadata": {
      "needs_background": "light"
     },
     "output_type": "display_data"
    }
   ],
   "source": [
    "_ = log.plot()"
   ]
  },
  {
   "cell_type": "code",
   "execution_count": 180,
   "metadata": {},
   "outputs": [
    {
     "data": {
      "text/plain": [
       "-9.110035"
      ]
     },
     "execution_count": 180,
     "metadata": {},
     "output_type": "execute_result"
    }
   ],
   "source": [
    "model.partial_log_likelihood(*val).mean()"
   ]
  },
  {
   "cell_type": "code",
   "execution_count": 181,
   "metadata": {},
   "outputs": [],
   "source": [
    "_ = model.compute_baseline_hazards()"
   ]
  },
  {
   "cell_type": "code",
   "execution_count": 182,
   "metadata": {},
   "outputs": [],
   "source": [
    "surv = model.predict_surv_df(x_test)"
   ]
  },
  {
   "cell_type": "code",
   "execution_count": 183,
   "metadata": {},
   "outputs": [
    {
     "data": {
      "image/png": "[encoded data removed]",
      "text/plain": [
       "<Figure size 432x288 with 1 Axes>"
      ]
     },
     "metadata": {
      "needs_background": "light"
     },
     "output_type": "display_data"
    }
   ],
   "source": [
    "surv.iloc[:, :5].plot()\n",
    "plt.ylabel('S(t | x)')\n",
    "_ = plt.xlabel('Time')"
   ]
  },
  {
   "cell_type": "code",
   "execution_count": 184,
   "metadata": {},
   "outputs": [],
   "source": [
    "ev = EvalSurv(surv, durations_test, events_test, censor_surv='km')"
   ]
  },
  {
   "cell_type": "code",
   "execution_count": 185,
   "metadata": {},
   "outputs": [
    {
     "data": {
      "text/plain": [
       "0.7981144259443937"
      ]
     },
     "execution_count": 185,
     "metadata": {},
     "output_type": "execute_result"
    }
   ],
   "source": [
    "ev.concordance_td()"
   ]
  },
  {
   "cell_type": "code",
   "execution_count": null,
   "metadata": {},
   "outputs": [],
   "source": []
  }
 ],
 "metadata": {
  "kernelspec": {
   "display_name": "Python 3",
   "language": "python",
   "name": "python3"
  },
  "language_info": {
   "codemirror_mode": {
    "name": "ipython",
    "version": 3
   },
   "file_extension": ".py",
   "mimetype": "text/x-python",
   "name": "python",
   "nbconvert_exporter": "python",
   "pygments_lexer": "ipython3",
   "version": "3.7.7"
  }
 },
 "nbformat": 4,
 "nbformat_minor": 4
}
